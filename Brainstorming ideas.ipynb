{
 "cells": [
  {
   "cell_type": "markdown",
   "metadata": {},
   "source": [
    "# Brainstorming"
   ]
  },
  {
   "cell_type": "code",
   "execution_count": 1,
   "metadata": {},
   "outputs": [],
   "source": [
    "import pandas as pd"
   ]
  },
  {
   "cell_type": "markdown",
   "metadata": {},
   "source": [
    "<hr style=\"border:2px solid black\"> </hr>"
   ]
  },
  {
   "cell_type": "markdown",
   "metadata": {},
   "source": [
    "# Chicago's 'L' Train"
   ]
  },
  {
   "cell_type": "markdown",
   "metadata": {},
   "source": [
    "## Target: \"riders\"\n",
    "\n",
    "### Hypothesis: \n",
    "- There is no relationship between number of riders and station\n",
    "\n",
    "### Project Goals: \n",
    "- to create a machine learning model that will accurately predict the number of riders per station\n",
    "\n",
    "### Important Question:\n",
    "- do less affluent areas use mass transit more frequently (socioeconomics)?\n",
    "- does date play a roll in number of riders?\n",
    "\n",
    "### Additional Info:\n",
    "- large dataset (1.05M entries)\n",
    "- over 20 years worth of info\n",
    "- fairly clean data\n",
    "\n",
    "- **Resume builder**: there are likely employers interested in predicting number of customers"
   ]
  },
  {
   "cell_type": "code",
   "execution_count": 2,
   "metadata": {},
   "outputs": [],
   "source": [
    "df = pd.read_csv('CTA_totals.csv')"
   ]
  },
  {
   "cell_type": "code",
   "execution_count": 3,
   "metadata": {},
   "outputs": [
    {
     "data": {
      "text/html": [
       "<div>\n",
       "<style scoped>\n",
       "    .dataframe tbody tr th:only-of-type {\n",
       "        vertical-align: middle;\n",
       "    }\n",
       "\n",
       "    .dataframe tbody tr th {\n",
       "        vertical-align: top;\n",
       "    }\n",
       "\n",
       "    .dataframe thead th {\n",
       "        text-align: right;\n",
       "    }\n",
       "</style>\n",
       "<table border=\"1\" class=\"dataframe\">\n",
       "  <thead>\n",
       "    <tr style=\"text-align: right;\">\n",
       "      <th></th>\n",
       "      <th>station_id</th>\n",
       "      <th>stationname</th>\n",
       "      <th>date</th>\n",
       "      <th>daytype</th>\n",
       "      <th>rides</th>\n",
       "    </tr>\n",
       "  </thead>\n",
       "  <tbody>\n",
       "    <tr>\n",
       "      <th>0</th>\n",
       "      <td>41280</td>\n",
       "      <td>Jefferson Park</td>\n",
       "      <td>12/22/2017</td>\n",
       "      <td>W</td>\n",
       "      <td>6104</td>\n",
       "    </tr>\n",
       "    <tr>\n",
       "      <th>1</th>\n",
       "      <td>41000</td>\n",
       "      <td>Cermak-Chinatown</td>\n",
       "      <td>12/18/2017</td>\n",
       "      <td>W</td>\n",
       "      <td>3636</td>\n",
       "    </tr>\n",
       "    <tr>\n",
       "      <th>2</th>\n",
       "      <td>40280</td>\n",
       "      <td>Central-Lake</td>\n",
       "      <td>12/02/2017</td>\n",
       "      <td>A</td>\n",
       "      <td>1270</td>\n",
       "    </tr>\n",
       "    <tr>\n",
       "      <th>3</th>\n",
       "      <td>40140</td>\n",
       "      <td>Dempster-Skokie</td>\n",
       "      <td>12/19/2017</td>\n",
       "      <td>W</td>\n",
       "      <td>1759</td>\n",
       "    </tr>\n",
       "    <tr>\n",
       "      <th>4</th>\n",
       "      <td>40690</td>\n",
       "      <td>Dempster</td>\n",
       "      <td>12/03/2017</td>\n",
       "      <td>U</td>\n",
       "      <td>499</td>\n",
       "    </tr>\n",
       "  </tbody>\n",
       "</table>\n",
       "</div>"
      ],
      "text/plain": [
       "   station_id       stationname        date daytype  rides\n",
       "0       41280    Jefferson Park  12/22/2017       W   6104\n",
       "1       41000  Cermak-Chinatown  12/18/2017       W   3636\n",
       "2       40280      Central-Lake  12/02/2017       A   1270\n",
       "3       40140   Dempster-Skokie  12/19/2017       W   1759\n",
       "4       40690          Dempster  12/03/2017       U    499"
      ]
     },
     "execution_count": 3,
     "metadata": {},
     "output_type": "execute_result"
    }
   ],
   "source": [
    "df.head()"
   ]
  },
  {
   "cell_type": "code",
   "execution_count": 4,
   "metadata": {},
   "outputs": [
    {
     "name": "stdout",
     "output_type": "stream",
     "text": [
      "<class 'pandas.core.frame.DataFrame'>\n",
      "RangeIndex: 1049633 entries, 0 to 1049632\n",
      "Data columns (total 5 columns):\n",
      " #   Column       Non-Null Count    Dtype \n",
      "---  ------       --------------    ----- \n",
      " 0   station_id   1049633 non-null  int64 \n",
      " 1   stationname  1049633 non-null  object\n",
      " 2   date         1049633 non-null  object\n",
      " 3   daytype      1049633 non-null  object\n",
      " 4   rides        1049633 non-null  int64 \n",
      "dtypes: int64(2), object(3)\n",
      "memory usage: 40.0+ MB\n"
     ]
    }
   ],
   "source": [
    "df.info()"
   ]
  },
  {
   "cell_type": "code",
   "execution_count": 5,
   "metadata": {},
   "outputs": [
    {
     "data": {
      "text/plain": [
       "(1049633, 5)"
      ]
     },
     "execution_count": 5,
     "metadata": {},
     "output_type": "execute_result"
    }
   ],
   "source": [
    "df.shape"
   ]
  },
  {
   "cell_type": "code",
   "execution_count": 6,
   "metadata": {},
   "outputs": [
    {
     "data": {
      "text/plain": [
       "station_id     0\n",
       "stationname    0\n",
       "date           0\n",
       "daytype        0\n",
       "rides          0\n",
       "dtype: int64"
      ]
     },
     "execution_count": 6,
     "metadata": {},
     "output_type": "execute_result"
    }
   ],
   "source": [
    "df.isnull().sum()"
   ]
  },
  {
   "cell_type": "code",
   "execution_count": 21,
   "metadata": {},
   "outputs": [
    {
     "data": {
      "text/plain": [
       "(36323, 0)"
      ]
     },
     "execution_count": 21,
     "metadata": {},
     "output_type": "execute_result"
    }
   ],
   "source": [
    "df.rides.max(), df.rides.min()"
   ]
  },
  {
   "cell_type": "markdown",
   "metadata": {},
   "source": [
    "<hr style=\"border:2px solid black\"> </hr>"
   ]
  },
  {
   "cell_type": "markdown",
   "metadata": {},
   "source": [
    "# Food Inspection Scores"
   ]
  },
  {
   "cell_type": "markdown",
   "metadata": {},
   "source": [
    "## Target Variable: \"Score\"\n",
    "\n",
    "### Hypothesis: \n",
    "- There is no relationship between food inspection scores and location\n",
    "\n",
    "### Project Goals: \n",
    "- to create a machine learning model that will accurately predict the food inspection score of a restaurant\n",
    "\n",
    "### Important Questions:\n",
    "- do food inspection scores depend on location of establishment?\n",
    "- do food inspection scores depend on type of inspection?\n",
    "- do food inspection scores depend on date?\n",
    "\n",
    "### Additional Info:\n",
    "- will need to clean data somewhat (change dtypes, drop columns)\n",
    "    - Inspection date to datetime\n",
    "    - zip code to int\n",
    "    \n",
    "- **Resume Builder**: any business can use predictive modeling to improve customer satisfaction thus increasing revenue    \n"
   ]
  },
  {
   "cell_type": "code",
   "execution_count": 7,
   "metadata": {},
   "outputs": [],
   "source": [
    "df3 = pd.read_csv('Food_Scores.csv')"
   ]
  },
  {
   "cell_type": "code",
   "execution_count": 8,
   "metadata": {},
   "outputs": [
    {
     "data": {
      "text/html": [
       "<div>\n",
       "<style scoped>\n",
       "    .dataframe tbody tr th:only-of-type {\n",
       "        vertical-align: middle;\n",
       "    }\n",
       "\n",
       "    .dataframe tbody tr th {\n",
       "        vertical-align: top;\n",
       "    }\n",
       "\n",
       "    .dataframe thead th {\n",
       "        text-align: right;\n",
       "    }\n",
       "</style>\n",
       "<table border=\"1\" class=\"dataframe\">\n",
       "  <thead>\n",
       "    <tr style=\"text-align: right;\">\n",
       "      <th></th>\n",
       "      <th>Restaurant Name</th>\n",
       "      <th>Zip Code</th>\n",
       "      <th>Inspection Date</th>\n",
       "      <th>Score</th>\n",
       "      <th>Address</th>\n",
       "      <th>Facility ID</th>\n",
       "      <th>Process Description</th>\n",
       "    </tr>\n",
       "  </thead>\n",
       "  <tbody>\n",
       "    <tr>\n",
       "      <th>0</th>\n",
       "      <td>Comfort Suites</td>\n",
       "      <td>78744.0</td>\n",
       "      <td>04/20/2021</td>\n",
       "      <td>99</td>\n",
       "      <td>5001 S IH\\nAUSTIN, TX 78744</td>\n",
       "      <td>11905043</td>\n",
       "      <td>Routine Inspection</td>\n",
       "    </tr>\n",
       "    <tr>\n",
       "      <th>1</th>\n",
       "      <td>Crazy Fruits # 3</td>\n",
       "      <td>78719.0</td>\n",
       "      <td>06/03/2021</td>\n",
       "      <td>80</td>\n",
       "      <td>5611 S US 183 HWY\\nAUSTIN, TX 78719</td>\n",
       "      <td>12154211</td>\n",
       "      <td>Routine Inspection</td>\n",
       "    </tr>\n",
       "    <tr>\n",
       "      <th>2</th>\n",
       "      <td>Mi Casita</td>\n",
       "      <td>78725.0</td>\n",
       "      <td>05/19/2021</td>\n",
       "      <td>90</td>\n",
       "      <td>9809 FM 969 RD\\nAUSTIN, TX 78725</td>\n",
       "      <td>11633987</td>\n",
       "      <td>Routine Inspection</td>\n",
       "    </tr>\n",
       "    <tr>\n",
       "      <th>3</th>\n",
       "      <td>SV-Nala's</td>\n",
       "      <td>78735.0</td>\n",
       "      <td>06/01/2021</td>\n",
       "      <td>73</td>\n",
       "      <td>4894 W US 290 HWY\\nSUNSET VALLEY, TX 78735</td>\n",
       "      <td>11994463</td>\n",
       "      <td>Routine Inspection</td>\n",
       "    </tr>\n",
       "    <tr>\n",
       "      <th>4</th>\n",
       "      <td>7-Eleven 36559H</td>\n",
       "      <td>78734.0</td>\n",
       "      <td>03/08/2019</td>\n",
       "      <td>89</td>\n",
       "      <td>3636 N FM 620 RD\\nAUSTIN, TX 78734</td>\n",
       "      <td>10874261</td>\n",
       "      <td>Routine Inspection</td>\n",
       "    </tr>\n",
       "  </tbody>\n",
       "</table>\n",
       "</div>"
      ],
      "text/plain": [
       "    Restaurant Name  Zip Code Inspection Date  Score  \\\n",
       "0    Comfort Suites   78744.0      04/20/2021     99   \n",
       "1  Crazy Fruits # 3   78719.0      06/03/2021     80   \n",
       "2         Mi Casita   78725.0      05/19/2021     90   \n",
       "3         SV-Nala's   78735.0      06/01/2021     73   \n",
       "4   7-Eleven 36559H   78734.0      03/08/2019     89   \n",
       "\n",
       "                                      Address  Facility ID Process Description  \n",
       "0                 5001 S IH\\nAUSTIN, TX 78744     11905043  Routine Inspection  \n",
       "1         5611 S US 183 HWY\\nAUSTIN, TX 78719     12154211  Routine Inspection  \n",
       "2            9809 FM 969 RD\\nAUSTIN, TX 78725     11633987  Routine Inspection  \n",
       "3  4894 W US 290 HWY\\nSUNSET VALLEY, TX 78735     11994463  Routine Inspection  \n",
       "4          3636 N FM 620 RD\\nAUSTIN, TX 78734     10874261  Routine Inspection  "
      ]
     },
     "execution_count": 8,
     "metadata": {},
     "output_type": "execute_result"
    }
   ],
   "source": [
    "df3.head()"
   ]
  },
  {
   "cell_type": "code",
   "execution_count": 9,
   "metadata": {},
   "outputs": [
    {
     "name": "stdout",
     "output_type": "stream",
     "text": [
      "<class 'pandas.core.frame.DataFrame'>\n",
      "RangeIndex: 25011 entries, 0 to 25010\n",
      "Data columns (total 7 columns):\n",
      " #   Column               Non-Null Count  Dtype  \n",
      "---  ------               --------------  -----  \n",
      " 0   Restaurant Name      25011 non-null  object \n",
      " 1   Zip Code             25006 non-null  float64\n",
      " 2   Inspection Date      25011 non-null  object \n",
      " 3   Score                25011 non-null  int64  \n",
      " 4   Address              25011 non-null  object \n",
      " 5   Facility ID          25011 non-null  int64  \n",
      " 6   Process Description  25011 non-null  object \n",
      "dtypes: float64(1), int64(2), object(4)\n",
      "memory usage: 1.3+ MB\n"
     ]
    }
   ],
   "source": [
    "df3.info()"
   ]
  },
  {
   "cell_type": "code",
   "execution_count": 23,
   "metadata": {},
   "outputs": [
    {
     "data": {
      "text/plain": [
       "(25011, 7)"
      ]
     },
     "execution_count": 23,
     "metadata": {},
     "output_type": "execute_result"
    }
   ],
   "source": [
    "df3.shape"
   ]
  },
  {
   "cell_type": "code",
   "execution_count": 11,
   "metadata": {},
   "outputs": [
    {
     "data": {
      "text/plain": [
       "Restaurant Name        0\n",
       "Zip Code               5\n",
       "Inspection Date        0\n",
       "Score                  0\n",
       "Address                0\n",
       "Facility ID            0\n",
       "Process Description    0\n",
       "dtype: int64"
      ]
     },
     "execution_count": 11,
     "metadata": {},
     "output_type": "execute_result"
    }
   ],
   "source": [
    "df3.isnull().sum()"
   ]
  },
  {
   "cell_type": "code",
   "execution_count": 26,
   "metadata": {},
   "outputs": [
    {
     "data": {
      "text/plain": [
       "(100, 44)"
      ]
     },
     "execution_count": 26,
     "metadata": {},
     "output_type": "execute_result"
    }
   ],
   "source": [
    "df3.Score.max(), df3.Score.min()"
   ]
  },
  {
   "cell_type": "markdown",
   "metadata": {},
   "source": [
    "<hr style=\"border:2px solid black\"> </hr>"
   ]
  },
  {
   "cell_type": "markdown",
   "metadata": {},
   "source": [
    "### Predicting Alcohol Sales by County"
   ]
  },
  {
   "cell_type": "code",
   "execution_count": 12,
   "metadata": {},
   "outputs": [],
   "source": [
    "df2 = pd.read_csv('mixed_bev.csv')"
   ]
  },
  {
   "cell_type": "code",
   "execution_count": 13,
   "metadata": {},
   "outputs": [
    {
     "data": {
      "text/html": [
       "<div>\n",
       "<style scoped>\n",
       "    .dataframe tbody tr th:only-of-type {\n",
       "        vertical-align: middle;\n",
       "    }\n",
       "\n",
       "    .dataframe tbody tr th {\n",
       "        vertical-align: top;\n",
       "    }\n",
       "\n",
       "    .dataframe thead th {\n",
       "        text-align: right;\n",
       "    }\n",
       "</style>\n",
       "<table border=\"1\" class=\"dataframe\">\n",
       "  <thead>\n",
       "    <tr style=\"text-align: right;\">\n",
       "      <th></th>\n",
       "      <th>Taxpayer Number</th>\n",
       "      <th>Taxpayer Name</th>\n",
       "      <th>Taxpayer Address</th>\n",
       "      <th>Taxpayer City</th>\n",
       "      <th>Taxpayer State</th>\n",
       "      <th>Taxpayer Zip</th>\n",
       "      <th>Taxpayer County</th>\n",
       "      <th>Location Number</th>\n",
       "      <th>Location Name</th>\n",
       "      <th>Location Address</th>\n",
       "      <th>...</th>\n",
       "      <th>Inside/Outside City Limits</th>\n",
       "      <th>TABC Permit Number</th>\n",
       "      <th>Responsibility Begin Date</th>\n",
       "      <th>Responsibility End Date</th>\n",
       "      <th>Obligation End Date</th>\n",
       "      <th>Liquor Receipts</th>\n",
       "      <th>Wine Receipts</th>\n",
       "      <th>Beer Receipts</th>\n",
       "      <th>Cover Charge Receipts</th>\n",
       "      <th>Total Receipts</th>\n",
       "    </tr>\n",
       "  </thead>\n",
       "  <tbody>\n",
       "    <tr>\n",
       "      <th>0</th>\n",
       "      <td>32047970895</td>\n",
       "      <td>HONDURAS MAYA CAFE &amp; BAR LLC</td>\n",
       "      <td>8011 HAZEN ST</td>\n",
       "      <td>HOUSTON</td>\n",
       "      <td>TX</td>\n",
       "      <td>77036.0</td>\n",
       "      <td>101</td>\n",
       "      <td>1</td>\n",
       "      <td>HONDURAS MAYA CAFE &amp; BAR LLC</td>\n",
       "      <td>5945 BELLAIRE BLVD STE B</td>\n",
       "      <td>...</td>\n",
       "      <td>Y</td>\n",
       "      <td>MB817033</td>\n",
       "      <td>08/16/2012</td>\n",
       "      <td>09/12/2019</td>\n",
       "      <td>07/31/2019</td>\n",
       "      <td>0</td>\n",
       "      <td>0</td>\n",
       "      <td>0</td>\n",
       "      <td>0</td>\n",
       "      <td>0</td>\n",
       "    </tr>\n",
       "    <tr>\n",
       "      <th>1</th>\n",
       "      <td>32049923835</td>\n",
       "      <td>MERMAID KARAOKE PRIVATE CLUB, INC.</td>\n",
       "      <td>2639 WALNUT HILL LN STE 225</td>\n",
       "      <td>DALLAS</td>\n",
       "      <td>TX</td>\n",
       "      <td>75229.0</td>\n",
       "      <td>57</td>\n",
       "      <td>1</td>\n",
       "      <td>MERMAID KARAOKE PRIVATE CLUB</td>\n",
       "      <td>1310 W CAMPBELL RD STE 103</td>\n",
       "      <td>...</td>\n",
       "      <td>Y</td>\n",
       "      <td>N 837378</td>\n",
       "      <td>04/12/2013</td>\n",
       "      <td>07/01/2015</td>\n",
       "      <td>08/31/2014</td>\n",
       "      <td>480</td>\n",
       "      <td>185</td>\n",
       "      <td>1374</td>\n",
       "      <td>0</td>\n",
       "      <td>2039</td>\n",
       "    </tr>\n",
       "    <tr>\n",
       "      <th>2</th>\n",
       "      <td>32034036304</td>\n",
       "      <td>FENG KAI CORPORATION</td>\n",
       "      <td>8427 BOULEVARD 26</td>\n",
       "      <td>N RICHLND HLS</td>\n",
       "      <td>TX</td>\n",
       "      <td>76180.0</td>\n",
       "      <td>220</td>\n",
       "      <td>1</td>\n",
       "      <td>JAPANESE GRILL</td>\n",
       "      <td>8427 BOULEVARD 26</td>\n",
       "      <td>...</td>\n",
       "      <td>Y</td>\n",
       "      <td>MB576670</td>\n",
       "      <td>05/01/2008</td>\n",
       "      <td>03/17/2018</td>\n",
       "      <td>06/30/2016</td>\n",
       "      <td>1143</td>\n",
       "      <td>167</td>\n",
       "      <td>669</td>\n",
       "      <td>0</td>\n",
       "      <td>1979</td>\n",
       "    </tr>\n",
       "    <tr>\n",
       "      <th>3</th>\n",
       "      <td>14537211071</td>\n",
       "      <td>THE HUTTO SMITHS, LLC</td>\n",
       "      <td>429 LITTLE LAKE RD</td>\n",
       "      <td>HUTTO</td>\n",
       "      <td>TX</td>\n",
       "      <td>78634.0</td>\n",
       "      <td>246</td>\n",
       "      <td>1</td>\n",
       "      <td>THE DOWNTOWN HALL OF FAME</td>\n",
       "      <td>205 EAST ST</td>\n",
       "      <td>...</td>\n",
       "      <td>Y</td>\n",
       "      <td>MB791778</td>\n",
       "      <td>12/06/2011</td>\n",
       "      <td>NaN</td>\n",
       "      <td>03/31/2018</td>\n",
       "      <td>12881</td>\n",
       "      <td>357</td>\n",
       "      <td>10447</td>\n",
       "      <td>0</td>\n",
       "      <td>23685</td>\n",
       "    </tr>\n",
       "    <tr>\n",
       "      <th>4</th>\n",
       "      <td>32019999229</td>\n",
       "      <td>THE CROSSING AT FIDDLE CREEK, INC.</td>\n",
       "      <td>1620 W CEDAR ST</td>\n",
       "      <td>STEPHENVILLE</td>\n",
       "      <td>TX</td>\n",
       "      <td>76401.0</td>\n",
       "      <td>72</td>\n",
       "      <td>1</td>\n",
       "      <td>THE CROSSING AT FIDDLE CREEK INC</td>\n",
       "      <td>2004 W SWAN ST</td>\n",
       "      <td>...</td>\n",
       "      <td>Y</td>\n",
       "      <td>N 643163</td>\n",
       "      <td>10/26/2006</td>\n",
       "      <td>11/30/2013</td>\n",
       "      <td>08/31/2008</td>\n",
       "      <td>4841</td>\n",
       "      <td>2413</td>\n",
       "      <td>4620</td>\n",
       "      <td>0</td>\n",
       "      <td>11874</td>\n",
       "    </tr>\n",
       "  </tbody>\n",
       "</table>\n",
       "<p>5 rows × 24 columns</p>\n",
       "</div>"
      ],
      "text/plain": [
       "   Taxpayer Number                       Taxpayer Name  \\\n",
       "0      32047970895        HONDURAS MAYA CAFE & BAR LLC   \n",
       "1      32049923835  MERMAID KARAOKE PRIVATE CLUB, INC.   \n",
       "2      32034036304                FENG KAI CORPORATION   \n",
       "3      14537211071               THE HUTTO SMITHS, LLC   \n",
       "4      32019999229  THE CROSSING AT FIDDLE CREEK, INC.   \n",
       "\n",
       "              Taxpayer Address  Taxpayer City Taxpayer State  Taxpayer Zip  \\\n",
       "0                8011 HAZEN ST        HOUSTON             TX       77036.0   \n",
       "1  2639 WALNUT HILL LN STE 225         DALLAS             TX       75229.0   \n",
       "2            8427 BOULEVARD 26  N RICHLND HLS             TX       76180.0   \n",
       "3           429 LITTLE LAKE RD          HUTTO             TX       78634.0   \n",
       "4              1620 W CEDAR ST   STEPHENVILLE             TX       76401.0   \n",
       "\n",
       "   Taxpayer County  Location Number                     Location Name  \\\n",
       "0              101                1      HONDURAS MAYA CAFE & BAR LLC   \n",
       "1               57                1      MERMAID KARAOKE PRIVATE CLUB   \n",
       "2              220                1                    JAPANESE GRILL   \n",
       "3              246                1         THE DOWNTOWN HALL OF FAME   \n",
       "4               72                1  THE CROSSING AT FIDDLE CREEK INC   \n",
       "\n",
       "             Location Address  ... Inside/Outside City Limits  \\\n",
       "0    5945 BELLAIRE BLVD STE B  ...                          Y   \n",
       "1  1310 W CAMPBELL RD STE 103  ...                          Y   \n",
       "2           8427 BOULEVARD 26  ...                          Y   \n",
       "3                 205 EAST ST  ...                          Y   \n",
       "4              2004 W SWAN ST  ...                          Y   \n",
       "\n",
       "  TABC Permit Number  Responsibility Begin Date  Responsibility End Date  \\\n",
       "0           MB817033                 08/16/2012               09/12/2019   \n",
       "1           N 837378                 04/12/2013               07/01/2015   \n",
       "2           MB576670                 05/01/2008               03/17/2018   \n",
       "3           MB791778                 12/06/2011                      NaN   \n",
       "4           N 643163                 10/26/2006               11/30/2013   \n",
       "\n",
       "  Obligation End Date Liquor Receipts Wine Receipts Beer Receipts  \\\n",
       "0          07/31/2019               0             0             0   \n",
       "1          08/31/2014             480           185          1374   \n",
       "2          06/30/2016            1143           167           669   \n",
       "3          03/31/2018           12881           357         10447   \n",
       "4          08/31/2008            4841          2413          4620   \n",
       "\n",
       "  Cover Charge Receipts  Total Receipts  \n",
       "0                     0               0  \n",
       "1                     0            2039  \n",
       "2                     0            1979  \n",
       "3                     0           23685  \n",
       "4                     0           11874  \n",
       "\n",
       "[5 rows x 24 columns]"
      ]
     },
     "execution_count": 13,
     "metadata": {},
     "output_type": "execute_result"
    }
   ],
   "source": [
    "df2.head()"
   ]
  },
  {
   "cell_type": "markdown",
   "metadata": {},
   "source": [
    "- zip need to be int\n",
    "- remove name\n",
    "- add state to nulls"
   ]
  },
  {
   "cell_type": "code",
   "execution_count": 14,
   "metadata": {
    "scrolled": true
   },
   "outputs": [
    {
     "name": "stdout",
     "output_type": "stream",
     "text": [
      "<class 'pandas.core.frame.DataFrame'>\n",
      "RangeIndex: 2556136 entries, 0 to 2556135\n",
      "Data columns (total 24 columns):\n",
      " #   Column                      Dtype  \n",
      "---  ------                      -----  \n",
      " 0   Taxpayer Number             int64  \n",
      " 1   Taxpayer Name               object \n",
      " 2   Taxpayer Address            object \n",
      " 3   Taxpayer City               object \n",
      " 4   Taxpayer State              object \n",
      " 5   Taxpayer Zip                float64\n",
      " 6   Taxpayer County             int64  \n",
      " 7   Location Number             int64  \n",
      " 8   Location Name               object \n",
      " 9   Location Address            object \n",
      " 10  Location City               object \n",
      " 11  Location State              object \n",
      " 12  Location Zip                int64  \n",
      " 13  Location County             int64  \n",
      " 14  Inside/Outside City Limits  object \n",
      " 15  TABC Permit Number          object \n",
      " 16  Responsibility Begin Date   object \n",
      " 17  Responsibility End Date     object \n",
      " 18  Obligation End Date         object \n",
      " 19  Liquor Receipts             int64  \n",
      " 20  Wine Receipts               int64  \n",
      " 21  Beer Receipts               int64  \n",
      " 22  Cover Charge Receipts       int64  \n",
      " 23  Total Receipts              int64  \n",
      "dtypes: float64(1), int64(10), object(13)\n",
      "memory usage: 468.0+ MB\n"
     ]
    }
   ],
   "source": [
    "df2.info()"
   ]
  },
  {
   "cell_type": "code",
   "execution_count": 15,
   "metadata": {
    "scrolled": true
   },
   "outputs": [
    {
     "data": {
      "text/plain": [
       "(1049633, 5)"
      ]
     },
     "execution_count": 15,
     "metadata": {},
     "output_type": "execute_result"
    }
   ],
   "source": [
    "df.shape"
   ]
  },
  {
   "cell_type": "code",
   "execution_count": 16,
   "metadata": {
    "scrolled": true
   },
   "outputs": [
    {
     "data": {
      "text/plain": [
       "Taxpayer Number                     0\n",
       "Taxpayer Name                       0\n",
       "Taxpayer Address                    0\n",
       "Taxpayer City                       0\n",
       "Taxpayer State                    884\n",
       "Taxpayer Zip                      884\n",
       "Taxpayer County                     0\n",
       "Location Number                     0\n",
       "Location Name                       0\n",
       "Location Address                    0\n",
       "Location City                       0\n",
       "Location State                      0\n",
       "Location Zip                        0\n",
       "Location County                     0\n",
       "Inside/Outside City Limits          0\n",
       "TABC Permit Number                  0\n",
       "Responsibility Begin Date           0\n",
       "Responsibility End Date       1511837\n",
       "Obligation End Date                 0\n",
       "Liquor Receipts                     0\n",
       "Wine Receipts                       0\n",
       "Beer Receipts                       0\n",
       "Cover Charge Receipts               0\n",
       "Total Receipts                      0\n",
       "dtype: int64"
      ]
     },
     "execution_count": 16,
     "metadata": {},
     "output_type": "execute_result"
    }
   ],
   "source": [
    "df2.isnull().sum()"
   ]
  }
 ],
 "metadata": {
  "kernelspec": {
   "display_name": "Python 3",
   "language": "python",
   "name": "python3"
  },
  "language_info": {
   "codemirror_mode": {
    "name": "ipython",
    "version": 3
   },
   "file_extension": ".py",
   "mimetype": "text/x-python",
   "name": "python",
   "nbconvert_exporter": "python",
   "pygments_lexer": "ipython3",
   "version": "3.8.5"
  }
 },
 "nbformat": 4,
 "nbformat_minor": 4
}
